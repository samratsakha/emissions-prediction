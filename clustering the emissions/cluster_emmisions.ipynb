{
  "nbformat": 4,
  "nbformat_minor": 0,
  "metadata": {
    "kernelspec": {
      "display_name": "Python 3",
      "language": "python",
      "name": "python3"
    },
    "language_info": {
      "codemirror_mode": {
        "name": "ipython",
        "version": 3
      },
      "file_extension": ".py",
      "mimetype": "text/x-python",
      "name": "python",
      "nbconvert_exporter": "python",
      "pygments_lexer": "ipython3",
      "version": "3.8.5"
    },
    "colab": {
      "name": "emmisions_clustering.ipynb",
      "provenance": [],
      "collapsed_sections": []
    },
    "accelerator": "GPU"
  },
  "cells": [
    {
      "cell_type": "code",
      "metadata": {
        "id": "mdmFgBW4xTwz"
      },
      "source": [
        "import pandas as pd\n",
        "import numpy as np\n",
        "from matplotlib import pyplot as plt\n",
        "import seaborn as sns\n",
        "%matplotlib inline"
      ],
      "execution_count": 1,
      "outputs": []
    },
    {
      "cell_type": "code",
      "metadata": {
        "colab": {
          "base_uri": "https://localhost:8080/"
        },
        "id": "WO2zBuilxbEg",
        "outputId": "be51d7eb-5444-43c5-b69b-07d2c8728e11"
      },
      "source": [
        "from google.colab import drive\n",
        "drive.mount('/content/drive')"
      ],
      "execution_count": 2,
      "outputs": [
        {
          "output_type": "stream",
          "text": [
            "Drive already mounted at /content/drive; to attempt to forcibly remount, call drive.mount(\"/content/drive\", force_remount=True).\n"
          ],
          "name": "stdout"
        }
      ]
    },
    {
      "cell_type": "code",
      "metadata": {
        "id": "wXvq4xnIxTw-"
      },
      "source": [
        "df1 = pd.read_csv(\"/content/drive/MyDrive/Projects/emmisions_clustering/datasets/gt_2011.csv\")\n",
        "df2 = pd.read_csv(\"/content/drive/MyDrive/Projects/emmisions_clustering/datasets/gt_2012.csv\")\n",
        "df3 = pd.read_csv(\"/content/drive/MyDrive/Projects/emmisions_clustering/datasets/gt_2013.csv\")\n",
        "df4 = pd.read_csv(\"/content/drive/MyDrive/Projects/emmisions_clustering/datasets/gt_2014.csv\")\n",
        "df5 = pd.read_csv(\"/content/drive/MyDrive/Projects/emmisions_clustering/datasets/gt_2015.csv\")\n",
        "\n",
        "df = df1.append([df2,df3,df4,df5])"
      ],
      "execution_count": 56,
      "outputs": []
    },
    {
      "cell_type": "code",
      "metadata": {
        "colab": {
          "base_uri": "https://localhost:8080/",
          "height": 205
        },
        "id": "jSNWX9OQxTxA",
        "outputId": "5e341c16-5493-4bd8-9add-8430b2f0af14"
      },
      "source": [
        "df.head()"
      ],
      "execution_count": 57,
      "outputs": [
        {
          "output_type": "execute_result",
          "data": {
            "text/html": [
              "<div>\n",
              "<style scoped>\n",
              "    .dataframe tbody tr th:only-of-type {\n",
              "        vertical-align: middle;\n",
              "    }\n",
              "\n",
              "    .dataframe tbody tr th {\n",
              "        vertical-align: top;\n",
              "    }\n",
              "\n",
              "    .dataframe thead th {\n",
              "        text-align: right;\n",
              "    }\n",
              "</style>\n",
              "<table border=\"1\" class=\"dataframe\">\n",
              "  <thead>\n",
              "    <tr style=\"text-align: right;\">\n",
              "      <th></th>\n",
              "      <th>AT</th>\n",
              "      <th>AP</th>\n",
              "      <th>AH</th>\n",
              "      <th>AFDP</th>\n",
              "      <th>GTEP</th>\n",
              "      <th>TIT</th>\n",
              "      <th>TAT</th>\n",
              "      <th>TEY</th>\n",
              "      <th>CDP</th>\n",
              "      <th>CO</th>\n",
              "      <th>NOX</th>\n",
              "    </tr>\n",
              "  </thead>\n",
              "  <tbody>\n",
              "    <tr>\n",
              "      <th>0</th>\n",
              "      <td>4.5878</td>\n",
              "      <td>1018.7</td>\n",
              "      <td>83.675</td>\n",
              "      <td>3.5758</td>\n",
              "      <td>23.979</td>\n",
              "      <td>1086.2</td>\n",
              "      <td>549.83</td>\n",
              "      <td>134.67</td>\n",
              "      <td>11.898</td>\n",
              "      <td>0.32663</td>\n",
              "      <td>81.952</td>\n",
              "    </tr>\n",
              "    <tr>\n",
              "      <th>1</th>\n",
              "      <td>4.2932</td>\n",
              "      <td>1018.3</td>\n",
              "      <td>84.235</td>\n",
              "      <td>3.5709</td>\n",
              "      <td>23.951</td>\n",
              "      <td>1086.1</td>\n",
              "      <td>550.05</td>\n",
              "      <td>134.67</td>\n",
              "      <td>11.892</td>\n",
              "      <td>0.44784</td>\n",
              "      <td>82.377</td>\n",
              "    </tr>\n",
              "    <tr>\n",
              "      <th>2</th>\n",
              "      <td>3.9045</td>\n",
              "      <td>1018.4</td>\n",
              "      <td>84.858</td>\n",
              "      <td>3.5828</td>\n",
              "      <td>23.990</td>\n",
              "      <td>1086.5</td>\n",
              "      <td>550.19</td>\n",
              "      <td>135.10</td>\n",
              "      <td>12.042</td>\n",
              "      <td>0.45144</td>\n",
              "      <td>83.776</td>\n",
              "    </tr>\n",
              "    <tr>\n",
              "      <th>3</th>\n",
              "      <td>3.7436</td>\n",
              "      <td>1018.3</td>\n",
              "      <td>85.434</td>\n",
              "      <td>3.5808</td>\n",
              "      <td>23.911</td>\n",
              "      <td>1086.5</td>\n",
              "      <td>550.17</td>\n",
              "      <td>135.03</td>\n",
              "      <td>11.990</td>\n",
              "      <td>0.23107</td>\n",
              "      <td>82.505</td>\n",
              "    </tr>\n",
              "    <tr>\n",
              "      <th>4</th>\n",
              "      <td>3.7516</td>\n",
              "      <td>1017.8</td>\n",
              "      <td>85.182</td>\n",
              "      <td>3.5781</td>\n",
              "      <td>23.917</td>\n",
              "      <td>1085.9</td>\n",
              "      <td>550.00</td>\n",
              "      <td>134.67</td>\n",
              "      <td>11.910</td>\n",
              "      <td>0.26747</td>\n",
              "      <td>82.028</td>\n",
              "    </tr>\n",
              "  </tbody>\n",
              "</table>\n",
              "</div>"
            ],
            "text/plain": [
              "       AT      AP      AH    AFDP  ...     TEY     CDP       CO     NOX\n",
              "0  4.5878  1018.7  83.675  3.5758  ...  134.67  11.898  0.32663  81.952\n",
              "1  4.2932  1018.3  84.235  3.5709  ...  134.67  11.892  0.44784  82.377\n",
              "2  3.9045  1018.4  84.858  3.5828  ...  135.10  12.042  0.45144  83.776\n",
              "3  3.7436  1018.3  85.434  3.5808  ...  135.03  11.990  0.23107  82.505\n",
              "4  3.7516  1017.8  85.182  3.5781  ...  134.67  11.910  0.26747  82.028\n",
              "\n",
              "[5 rows x 11 columns]"
            ]
          },
          "metadata": {
            "tags": []
          },
          "execution_count": 57
        }
      ]
    },
    {
      "cell_type": "code",
      "metadata": {
        "colab": {
          "base_uri": "https://localhost:8080/"
        },
        "id": "7IhS0TgNxTxF",
        "outputId": "6e712b8d-5b90-40af-bf92-eacdb303d398"
      },
      "source": [
        "df.shape"
      ],
      "execution_count": 58,
      "outputs": [
        {
          "output_type": "execute_result",
          "data": {
            "text/plain": [
              "(36733, 11)"
            ]
          },
          "metadata": {
            "tags": []
          },
          "execution_count": 58
        }
      ]
    },
    {
      "cell_type": "code",
      "metadata": {
        "id": "ktH5w-7BxTxG"
      },
      "source": [
        "total_len = (len(df1)+len(df2)+len(df3)+len(df4)+len(df5))"
      ],
      "execution_count": 59,
      "outputs": []
    },
    {
      "cell_type": "code",
      "metadata": {
        "colab": {
          "base_uri": "https://localhost:8080/"
        },
        "id": "1G2pJZOexTxI",
        "outputId": "cec7eddb-33cd-4ec0-ab5b-be10bfccf961"
      },
      "source": [
        "total_len"
      ],
      "execution_count": 60,
      "outputs": [
        {
          "output_type": "execute_result",
          "data": {
            "text/plain": [
              "36733"
            ]
          },
          "metadata": {
            "tags": []
          },
          "execution_count": 60
        }
      ]
    },
    {
      "cell_type": "code",
      "metadata": {
        "colab": {
          "base_uri": "https://localhost:8080/"
        },
        "id": "JSODluxbxTxJ",
        "outputId": "3f10feb2-f3d3-4191-ccf6-ef63baf5c2ce"
      },
      "source": [
        "df.info()"
      ],
      "execution_count": 61,
      "outputs": [
        {
          "output_type": "stream",
          "text": [
            "<class 'pandas.core.frame.DataFrame'>\n",
            "Int64Index: 36733 entries, 0 to 7383\n",
            "Data columns (total 11 columns):\n",
            " #   Column  Non-Null Count  Dtype  \n",
            "---  ------  --------------  -----  \n",
            " 0   AT      36733 non-null  float64\n",
            " 1   AP      36733 non-null  float64\n",
            " 2   AH      36733 non-null  float64\n",
            " 3   AFDP    36733 non-null  float64\n",
            " 4   GTEP    36733 non-null  float64\n",
            " 5   TIT     36733 non-null  float64\n",
            " 6   TAT     36733 non-null  float64\n",
            " 7   TEY     36733 non-null  float64\n",
            " 8   CDP     36733 non-null  float64\n",
            " 9   CO      36733 non-null  float64\n",
            " 10  NOX     36733 non-null  float64\n",
            "dtypes: float64(11)\n",
            "memory usage: 3.4 MB\n"
          ],
          "name": "stdout"
        }
      ]
    },
    {
      "cell_type": "code",
      "metadata": {
        "id": "G9c2p0f9xTxL"
      },
      "source": [
        "from sklearn.preprocessing import MinMaxScaler"
      ],
      "execution_count": 62,
      "outputs": []
    },
    {
      "cell_type": "code",
      "metadata": {
        "id": "ssWqBbDvxTxN"
      },
      "source": [
        "scaler = MinMaxScaler()"
      ],
      "execution_count": 63,
      "outputs": []
    },
    {
      "cell_type": "code",
      "metadata": {
        "id": "cRbeauWnxTxO"
      },
      "source": [
        "scaler = scaler.fit(df)\n",
        "scaled = scaler.transform(df)"
      ],
      "execution_count": 64,
      "outputs": []
    },
    {
      "cell_type": "code",
      "metadata": {
        "id": "Ua_fInFVxTxQ"
      },
      "source": [
        "df = pd.DataFrame(scaled,columns=df.columns)"
      ],
      "execution_count": 65,
      "outputs": []
    },
    {
      "cell_type": "code",
      "metadata": {
        "colab": {
          "base_uri": "https://localhost:8080/",
          "height": 205
        },
        "id": "bcmNglABxTxS",
        "outputId": "dd282364-2aaf-46b6-ab69-d3feb1d88c64"
      },
      "source": [
        "df.head()"
      ],
      "execution_count": 66,
      "outputs": [
        {
          "output_type": "execute_result",
          "data": {
            "text/html": [
              "<div>\n",
              "<style scoped>\n",
              "    .dataframe tbody tr th:only-of-type {\n",
              "        vertical-align: middle;\n",
              "    }\n",
              "\n",
              "    .dataframe tbody tr th {\n",
              "        vertical-align: top;\n",
              "    }\n",
              "\n",
              "    .dataframe thead th {\n",
              "        text-align: right;\n",
              "    }\n",
              "</style>\n",
              "<table border=\"1\" class=\"dataframe\">\n",
              "  <thead>\n",
              "    <tr style=\"text-align: right;\">\n",
              "      <th></th>\n",
              "      <th>AT</th>\n",
              "      <th>AP</th>\n",
              "      <th>AH</th>\n",
              "      <th>AFDP</th>\n",
              "      <th>GTEP</th>\n",
              "      <th>TIT</th>\n",
              "      <th>TAT</th>\n",
              "      <th>TEY</th>\n",
              "      <th>CDP</th>\n",
              "      <th>CO</th>\n",
              "      <th>NOX</th>\n",
              "    </tr>\n",
              "  </thead>\n",
              "  <tbody>\n",
              "    <tr>\n",
              "      <th>0</th>\n",
              "      <td>0.249727</td>\n",
              "      <td>0.647291</td>\n",
              "      <td>0.782894</td>\n",
              "      <td>0.269481</td>\n",
              "      <td>0.272873</td>\n",
              "      <td>0.853147</td>\n",
              "      <td>0.980288</td>\n",
              "      <td>0.435959</td>\n",
              "      <td>0.385552</td>\n",
              "      <td>0.007397</td>\n",
              "      <td>0.596213</td>\n",
              "    </tr>\n",
              "    <tr>\n",
              "      <th>1</th>\n",
              "      <td>0.242929</td>\n",
              "      <td>0.639409</td>\n",
              "      <td>0.790252</td>\n",
              "      <td>0.268594</td>\n",
              "      <td>0.271657</td>\n",
              "      <td>0.852148</td>\n",
              "      <td>0.985848</td>\n",
              "      <td>0.435959</td>\n",
              "      <td>0.384421</td>\n",
              "      <td>0.010146</td>\n",
              "      <td>0.600734</td>\n",
              "    </tr>\n",
              "    <tr>\n",
              "      <th>2</th>\n",
              "      <td>0.233960</td>\n",
              "      <td>0.641379</td>\n",
              "      <td>0.798437</td>\n",
              "      <td>0.270749</td>\n",
              "      <td>0.273351</td>\n",
              "      <td>0.856144</td>\n",
              "      <td>0.989386</td>\n",
              "      <td>0.441369</td>\n",
              "      <td>0.412685</td>\n",
              "      <td>0.010227</td>\n",
              "      <td>0.615616</td>\n",
              "    </tr>\n",
              "    <tr>\n",
              "      <th>3</th>\n",
              "      <td>0.230247</td>\n",
              "      <td>0.639409</td>\n",
              "      <td>0.806004</td>\n",
              "      <td>0.270387</td>\n",
              "      <td>0.269919</td>\n",
              "      <td>0.856144</td>\n",
              "      <td>0.988880</td>\n",
              "      <td>0.440488</td>\n",
              "      <td>0.402887</td>\n",
              "      <td>0.005231</td>\n",
              "      <td>0.602096</td>\n",
              "    </tr>\n",
              "    <tr>\n",
              "      <th>4</th>\n",
              "      <td>0.230432</td>\n",
              "      <td>0.629557</td>\n",
              "      <td>0.802693</td>\n",
              "      <td>0.269898</td>\n",
              "      <td>0.270180</td>\n",
              "      <td>0.850150</td>\n",
              "      <td>0.984584</td>\n",
              "      <td>0.435959</td>\n",
              "      <td>0.387813</td>\n",
              "      <td>0.006056</td>\n",
              "      <td>0.597021</td>\n",
              "    </tr>\n",
              "  </tbody>\n",
              "</table>\n",
              "</div>"
            ],
            "text/plain": [
              "         AT        AP        AH  ...       CDP        CO       NOX\n",
              "0  0.249727  0.647291  0.782894  ...  0.385552  0.007397  0.596213\n",
              "1  0.242929  0.639409  0.790252  ...  0.384421  0.010146  0.600734\n",
              "2  0.233960  0.641379  0.798437  ...  0.412685  0.010227  0.615616\n",
              "3  0.230247  0.639409  0.806004  ...  0.402887  0.005231  0.602096\n",
              "4  0.230432  0.629557  0.802693  ...  0.387813  0.006056  0.597021\n",
              "\n",
              "[5 rows x 11 columns]"
            ]
          },
          "metadata": {
            "tags": []
          },
          "execution_count": 66
        }
      ]
    },
    {
      "cell_type": "code",
      "metadata": {
        "colab": {
          "base_uri": "https://localhost:8080/",
          "height": 1000
        },
        "id": "Z5WJzuo20vPv",
        "outputId": "c41dfb71-1b0b-4c7a-9e62-5d9e8134ba75"
      },
      "source": [
        "plt.figure(figsize=(20,20))\n",
        "sns.heatmap(df.corr(),annot=True,cmap=\"RdYlGn\")"
      ],
      "execution_count": 14,
      "outputs": [
        {
          "output_type": "execute_result",
          "data": {
            "text/plain": [
              "<matplotlib.axes._subplots.AxesSubplot at 0x7f19682766d0>"
            ]
          },
          "metadata": {
            "tags": []
          },
          "execution_count": 14
        },
        {
          "output_type": "display_data",
          "data": {
            "image/png": "[encoded data removed]",
            "text/plain": [
              "<Figure size 1440x1440 with 2 Axes>"
            ]
          },
          "metadata": {
            "tags": [],
            "needs_background": "light"
          }
        }
      ]
    },
    {
      "cell_type": "code",
      "metadata": {
        "id": "GmLwN_Ut67ns"
      },
      "source": [
        "data = df[['CO','NOX']].copy()"
      ],
      "execution_count": 15,
      "outputs": []
    },
    {
      "cell_type": "code",
      "metadata": {
        "colab": {
          "base_uri": "https://localhost:8080/",
          "height": 205
        },
        "id": "e8UXyK5n7GUl",
        "outputId": "e3fee8e7-3682-4fb7-c882-4541470bca60"
      },
      "source": [
        "data.head()"
      ],
      "execution_count": 16,
      "outputs": [
        {
          "output_type": "execute_result",
          "data": {
            "text/html": [
              "<div>\n",
              "<style scoped>\n",
              "    .dataframe tbody tr th:only-of-type {\n",
              "        vertical-align: middle;\n",
              "    }\n",
              "\n",
              "    .dataframe tbody tr th {\n",
              "        vertical-align: top;\n",
              "    }\n",
              "\n",
              "    .dataframe thead th {\n",
              "        text-align: right;\n",
              "    }\n",
              "</style>\n",
              "<table border=\"1\" class=\"dataframe\">\n",
              "  <thead>\n",
              "    <tr style=\"text-align: right;\">\n",
              "      <th></th>\n",
              "      <th>CO</th>\n",
              "      <th>NOX</th>\n",
              "    </tr>\n",
              "  </thead>\n",
              "  <tbody>\n",
              "    <tr>\n",
              "      <th>0</th>\n",
              "      <td>0.007397</td>\n",
              "      <td>0.596213</td>\n",
              "    </tr>\n",
              "    <tr>\n",
              "      <th>1</th>\n",
              "      <td>0.010146</td>\n",
              "      <td>0.600734</td>\n",
              "    </tr>\n",
              "    <tr>\n",
              "      <th>2</th>\n",
              "      <td>0.010227</td>\n",
              "      <td>0.615616</td>\n",
              "    </tr>\n",
              "    <tr>\n",
              "      <th>3</th>\n",
              "      <td>0.005231</td>\n",
              "      <td>0.602096</td>\n",
              "    </tr>\n",
              "    <tr>\n",
              "      <th>4</th>\n",
              "      <td>0.006056</td>\n",
              "      <td>0.597021</td>\n",
              "    </tr>\n",
              "  </tbody>\n",
              "</table>\n",
              "</div>"
            ],
            "text/plain": [
              "         CO       NOX\n",
              "0  0.007397  0.596213\n",
              "1  0.010146  0.600734\n",
              "2  0.010227  0.615616\n",
              "3  0.005231  0.602096\n",
              "4  0.006056  0.597021"
            ]
          },
          "metadata": {
            "tags": []
          },
          "execution_count": 16
        }
      ]
    },
    {
      "cell_type": "code",
      "metadata": {
        "colab": {
          "base_uri": "https://localhost:8080/",
          "height": 297
        },
        "id": "exRtdJuAwoJ-",
        "outputId": "e0de2424-69d2-462c-b5b3-6500ee19cbc2"
      },
      "source": [
        "plt.scatter(df.CO,df['NOX'])\n",
        "plt.xlabel('CO')\n",
        "plt.ylabel('NOX')"
      ],
      "execution_count": 17,
      "outputs": [
        {
          "output_type": "execute_result",
          "data": {
            "text/plain": [
              "Text(0, 0.5, 'NOX')"
            ]
          },
          "metadata": {
            "tags": []
          },
          "execution_count": 17
        },
        {
          "output_type": "display_data",
          "data": {
            "image/png": "[encoded data removed]",
            "text/plain": [
              "<Figure size 432x288 with 1 Axes>"
            ]
          },
          "metadata": {
            "tags": [],
            "needs_background": "light"
          }
        }
      ]
    },
    {
      "cell_type": "markdown",
      "metadata": {
        "id": "QAUfPljxxTxT"
      },
      "source": [
        "## Using KMeans"
      ]
    },
    {
      "cell_type": "code",
      "metadata": {
        "id": "OklsUAkhxTxU"
      },
      "source": [
        "from sklearn.cluster import KMeans"
      ],
      "execution_count": 18,
      "outputs": []
    },
    {
      "cell_type": "code",
      "metadata": {
        "colab": {
          "base_uri": "https://localhost:8080/"
        },
        "id": "c072Jcq3xTxW",
        "outputId": "b8d0b3e9-697a-4ed7-baec-525ad8f2a276"
      },
      "source": [
        "km = KMeans(n_clusters=3)\n",
        "y_predicted = km.fit_predict(data)\n",
        "y_predicted"
      ],
      "execution_count": 19,
      "outputs": [
        {
          "output_type": "execute_result",
          "data": {
            "text/plain": [
              "array([1, 1, 1, ..., 0, 2, 0], dtype=int32)"
            ]
          },
          "metadata": {
            "tags": []
          },
          "execution_count": 19
        }
      ]
    },
    {
      "cell_type": "code",
      "metadata": {
        "colab": {
          "base_uri": "https://localhost:8080/"
        },
        "id": "kcmVw8OYxTxY",
        "outputId": "64bc051b-0b49-4629-f784-296e24bf8bec"
      },
      "source": [
        "km.cluster_centers_"
      ],
      "execution_count": 20,
      "outputs": [
        {
          "output_type": "execute_result",
          "data": {
            "text/plain": [
              "array([[0.18630749, 0.74621659],\n",
              "       [0.04814984, 0.49723948],\n",
              "       [0.04640136, 0.33268841]])"
            ]
          },
          "metadata": {
            "tags": []
          },
          "execution_count": 20
        }
      ]
    },
    {
      "cell_type": "code",
      "metadata": {
        "id": "B_yPezt0xTxa"
      },
      "source": [
        "from sklearn.metrics import silhouette_score"
      ],
      "execution_count": 21,
      "outputs": []
    },
    {
      "cell_type": "code",
      "metadata": {
        "colab": {
          "base_uri": "https://localhost:8080/"
        },
        "id": "oSblMgp1xTxa",
        "outputId": "0a822fa2-52d1-4bfd-df4e-3902d549f0e3"
      },
      "source": [
        "silhouette_score(data,y_predicted)"
      ],
      "execution_count": 22,
      "outputs": [
        {
          "output_type": "execute_result",
          "data": {
            "text/plain": [
              "0.47985553531865716"
            ]
          },
          "metadata": {
            "tags": []
          },
          "execution_count": 22
        }
      ]
    },
    {
      "cell_type": "code",
      "metadata": {
        "colab": {
          "base_uri": "https://localhost:8080/",
          "height": 295
        },
        "id": "eJNb_HFOxTxc",
        "outputId": "4d971bcc-dd75-42e9-c28b-5fc81893d612"
      },
      "source": [
        "wcss=[]\n",
        "for i in range(1,11):\n",
        "    kmeans=KMeans(n_clusters=i, init='k-means++',random_state=0)\n",
        "    kmeans.fit(data)\n",
        "    wcss.append(kmeans.inertia_)\n",
        "\n",
        "plt.plot(range(1,11),wcss)\n",
        "plt.title('The Elbow Method')\n",
        "plt.xlabel('Number of Clusters')\n",
        "plt.ylabel('WCSS')\n",
        "plt.show()"
      ],
      "execution_count": 23,
      "outputs": [
        {
          "output_type": "display_data",
          "data": {
            "image/png": "[encoded data removed]",
            "text/plain": [
              "<Figure size 432x288 with 1 Axes>"
            ]
          },
          "metadata": {
            "tags": [],
            "needs_background": "light"
          }
        }
      ]
    },
    {
      "cell_type": "code",
      "metadata": {
        "colab": {
          "base_uri": "https://localhost:8080/",
          "height": 205
        },
        "id": "I7h4P1M2H8TJ",
        "outputId": "b03372cd-d5b3-4b2e-9e43-c75e4f2acf18"
      },
      "source": [
        "df['kmeans'] = y_predicted\n",
        "df.head()"
      ],
      "execution_count": 29,
      "outputs": [
        {
          "output_type": "execute_result",
          "data": {
            "text/html": [
              "<div>\n",
              "<style scoped>\n",
              "    .dataframe tbody tr th:only-of-type {\n",
              "        vertical-align: middle;\n",
              "    }\n",
              "\n",
              "    .dataframe tbody tr th {\n",
              "        vertical-align: top;\n",
              "    }\n",
              "\n",
              "    .dataframe thead th {\n",
              "        text-align: right;\n",
              "    }\n",
              "</style>\n",
              "<table border=\"1\" class=\"dataframe\">\n",
              "  <thead>\n",
              "    <tr style=\"text-align: right;\">\n",
              "      <th></th>\n",
              "      <th>AT</th>\n",
              "      <th>AP</th>\n",
              "      <th>AH</th>\n",
              "      <th>AFDP</th>\n",
              "      <th>GTEP</th>\n",
              "      <th>TIT</th>\n",
              "      <th>TAT</th>\n",
              "      <th>TEY</th>\n",
              "      <th>CDP</th>\n",
              "      <th>CO</th>\n",
              "      <th>NOX</th>\n",
              "      <th>kmeans</th>\n",
              "    </tr>\n",
              "  </thead>\n",
              "  <tbody>\n",
              "    <tr>\n",
              "      <th>0</th>\n",
              "      <td>0.249727</td>\n",
              "      <td>0.647291</td>\n",
              "      <td>0.782894</td>\n",
              "      <td>0.269481</td>\n",
              "      <td>0.272873</td>\n",
              "      <td>0.853147</td>\n",
              "      <td>0.980288</td>\n",
              "      <td>0.435959</td>\n",
              "      <td>0.385552</td>\n",
              "      <td>0.007397</td>\n",
              "      <td>0.596213</td>\n",
              "      <td>1</td>\n",
              "    </tr>\n",
              "    <tr>\n",
              "      <th>1</th>\n",
              "      <td>0.242929</td>\n",
              "      <td>0.639409</td>\n",
              "      <td>0.790252</td>\n",
              "      <td>0.268594</td>\n",
              "      <td>0.271657</td>\n",
              "      <td>0.852148</td>\n",
              "      <td>0.985848</td>\n",
              "      <td>0.435959</td>\n",
              "      <td>0.384421</td>\n",
              "      <td>0.010146</td>\n",
              "      <td>0.600734</td>\n",
              "      <td>1</td>\n",
              "    </tr>\n",
              "    <tr>\n",
              "      <th>2</th>\n",
              "      <td>0.233960</td>\n",
              "      <td>0.641379</td>\n",
              "      <td>0.798437</td>\n",
              "      <td>0.270749</td>\n",
              "      <td>0.273351</td>\n",
              "      <td>0.856144</td>\n",
              "      <td>0.989386</td>\n",
              "      <td>0.441369</td>\n",
              "      <td>0.412685</td>\n",
              "      <td>0.010227</td>\n",
              "      <td>0.615616</td>\n",
              "      <td>1</td>\n",
              "    </tr>\n",
              "    <tr>\n",
              "      <th>3</th>\n",
              "      <td>0.230247</td>\n",
              "      <td>0.639409</td>\n",
              "      <td>0.806004</td>\n",
              "      <td>0.270387</td>\n",
              "      <td>0.269919</td>\n",
              "      <td>0.856144</td>\n",
              "      <td>0.988880</td>\n",
              "      <td>0.440488</td>\n",
              "      <td>0.402887</td>\n",
              "      <td>0.005231</td>\n",
              "      <td>0.602096</td>\n",
              "      <td>1</td>\n",
              "    </tr>\n",
              "    <tr>\n",
              "      <th>4</th>\n",
              "      <td>0.230432</td>\n",
              "      <td>0.629557</td>\n",
              "      <td>0.802693</td>\n",
              "      <td>0.269898</td>\n",
              "      <td>0.270180</td>\n",
              "      <td>0.850150</td>\n",
              "      <td>0.984584</td>\n",
              "      <td>0.435959</td>\n",
              "      <td>0.387813</td>\n",
              "      <td>0.006056</td>\n",
              "      <td>0.597021</td>\n",
              "      <td>1</td>\n",
              "    </tr>\n",
              "  </tbody>\n",
              "</table>\n",
              "</div>"
            ],
            "text/plain": [
              "         AT        AP        AH      AFDP  ...       CDP        CO       NOX  kmeans\n",
              "0  0.249727  0.647291  0.782894  0.269481  ...  0.385552  0.007397  0.596213       1\n",
              "1  0.242929  0.639409  0.790252  0.268594  ...  0.384421  0.010146  0.600734       1\n",
              "2  0.233960  0.641379  0.798437  0.270749  ...  0.412685  0.010227  0.615616       1\n",
              "3  0.230247  0.639409  0.806004  0.270387  ...  0.402887  0.005231  0.602096       1\n",
              "4  0.230432  0.629557  0.802693  0.269898  ...  0.387813  0.006056  0.597021       1\n",
              "\n",
              "[5 rows x 12 columns]"
            ]
          },
          "metadata": {
            "tags": []
          },
          "execution_count": 29
        }
      ]
    },
    {
      "cell_type": "code",
      "metadata": {
        "colab": {
          "base_uri": "https://localhost:8080/",
          "height": 295
        },
        "id": "Vpc7-vdT8Dp5",
        "outputId": "c69c9059-df43-4d55-e5d9-98f5a7212264"
      },
      "source": [
        "df1 = df[df.kmeans==0]\n",
        "df2 = df[df.kmeans==1]\n",
        "df3 = df[df.kmeans==2]\n",
        "plt.scatter(df1.CO,df1['NOX'],color='red')\n",
        "plt.scatter(df2.CO,df2['NOX'],color='yellow')\n",
        "plt.scatter(df3.CO,df3['NOX'],color='green')\n",
        "plt.title('Poisonous Gas')\n",
        "plt.xlabel('CO')\n",
        "plt.ylabel('NOX')\n",
        "plt.show()"
      ],
      "execution_count": 31,
      "outputs": [
        {
          "output_type": "display_data",
          "data": {
            "image/png": "[encoded data removed]",
            "text/plain": [
              "<Figure size 432x288 with 1 Axes>"
            ]
          },
          "metadata": {
            "tags": [],
            "needs_background": "light"
          }
        }
      ]
    },
    {
      "cell_type": "markdown",
      "metadata": {
        "id": "9JiWXP0ZxTxd"
      },
      "source": [
        "## Using Hierarchical"
      ]
    },
    {
      "cell_type": "code",
      "metadata": {
        "id": "BbPfjhttxTxe"
      },
      "source": [
        "from sklearn.cluster import AgglomerativeClustering"
      ],
      "execution_count": 32,
      "outputs": []
    },
    {
      "cell_type": "code",
      "metadata": {
        "id": "RORt7BVnxTxg"
      },
      "source": [
        "cluster = AgglomerativeClustering(n_clusters=3,affinity='euclidean',linkage='ward')\n",
        "y_predicted = cluster.fit_predict(data)"
      ],
      "execution_count": 33,
      "outputs": []
    },
    {
      "cell_type": "code",
      "metadata": {
        "colab": {
          "base_uri": "https://localhost:8080/"
        },
        "id": "DEHHs8lrxTxh",
        "outputId": "4d054e64-d69c-48c6-a335-31fcf21bf35c"
      },
      "source": [
        "y_predicted"
      ],
      "execution_count": 34,
      "outputs": [
        {
          "output_type": "execute_result",
          "data": {
            "text/plain": [
              "array([1, 1, 1, ..., 2, 0, 2])"
            ]
          },
          "metadata": {
            "tags": []
          },
          "execution_count": 34
        }
      ]
    },
    {
      "cell_type": "code",
      "metadata": {
        "id": "GM2-G1Xk_sS2"
      },
      "source": [
        "df['CLUSTER'] = y_predicted"
      ],
      "execution_count": 50,
      "outputs": []
    },
    {
      "cell_type": "code",
      "metadata": {
        "colab": {
          "base_uri": "https://localhost:8080/"
        },
        "id": "oZN6OESgygtl",
        "outputId": "f83265ee-c6cc-4c86-8a89-42fe1498c8ce"
      },
      "source": [
        "silhouette_score(data,y_predicted)"
      ],
      "execution_count": 36,
      "outputs": [
        {
          "output_type": "execute_result",
          "data": {
            "text/plain": [
              "0.4784541079369336"
            ]
          },
          "metadata": {
            "tags": []
          },
          "execution_count": 36
        }
      ]
    },
    {
      "cell_type": "code",
      "metadata": {
        "colab": {
          "base_uri": "https://localhost:8080/",
          "height": 331
        },
        "id": "rMhvNlGbsnk8",
        "outputId": "37eb4cc8-f7bd-410e-8f94-dc8098adb6c4"
      },
      "source": [
        "df1 = df[df.CLUSTER==0]\n",
        "df2 = df[df.CLUSTER==1]\n",
        "df3 = df[df.CLUSTER==2]\n",
        "plt.scatter(df1.CO,df1['NOX'],color='green')\n",
        "plt.scatter(df2.CO,df2['NOX'],color='yellow')\n",
        "plt.scatter(df3.CO,df3['NOX'],color='red')\n",
        "plt.title('Poisonous Gas')\n",
        "plt.xlabel('CO')\n",
        "plt.ylabel('NOX')\n",
        "plt.legend()"
      ],
      "execution_count": 51,
      "outputs": [
        {
          "output_type": "stream",
          "text": [
            "No handles with labels found to put in legend.\n"
          ],
          "name": "stderr"
        },
        {
          "output_type": "execute_result",
          "data": {
            "text/plain": [
              "<matplotlib.legend.Legend at 0x7f19402aae90>"
            ]
          },
          "metadata": {
            "tags": []
          },
          "execution_count": 51
        },
        {
          "output_type": "display_data",
          "data": {
            "image/png": "[encoded data removed]",
            "text/plain": [
              "<Figure size 432x288 with 1 Axes>"
            ]
          },
          "metadata": {
            "tags": [],
            "needs_background": "light"
          }
        }
      ]
    },
    {
      "cell_type": "code",
      "metadata": {
        "id": "tNbk0FL7rekT"
      },
      "source": [
        "filename = 'hierarchical_clustering.pkl'"
      ],
      "execution_count": 42,
      "outputs": []
    },
    {
      "cell_type": "code",
      "metadata": {
        "id": "dKB_BVDeDmJ4"
      },
      "source": [
        "import pickle"
      ],
      "execution_count": 43,
      "outputs": []
    },
    {
      "cell_type": "code",
      "metadata": {
        "id": "e_xEAZTxDnpY"
      },
      "source": [
        "pickle.dump(cluster,open(filename,'wb'))"
      ],
      "execution_count": 44,
      "outputs": []
    },
    {
      "cell_type": "code",
      "metadata": {
        "id": "Q8iPTNjrDs4C"
      },
      "source": [
        "model = pickle.load(open('/content/hierarchical_clustering.pkl','rb'))"
      ],
      "execution_count": 45,
      "outputs": []
    },
    {
      "cell_type": "code",
      "metadata": {
        "id": "fiwUa33MFwTt"
      },
      "source": [
        "predicted = model.fit_predict(data)"
      ],
      "execution_count": 46,
      "outputs": []
    },
    {
      "cell_type": "code",
      "metadata": {
        "colab": {
          "base_uri": "https://localhost:8080/",
          "height": 205
        },
        "id": "RYG-Mq3VHQxL",
        "outputId": "b42bb777-129c-4eb9-9a66-14c5feed9dac"
      },
      "source": [
        "df.head()"
      ],
      "execution_count": 52,
      "outputs": [
        {
          "output_type": "execute_result",
          "data": {
            "text/html": [
              "<div>\n",
              "<style scoped>\n",
              "    .dataframe tbody tr th:only-of-type {\n",
              "        vertical-align: middle;\n",
              "    }\n",
              "\n",
              "    .dataframe tbody tr th {\n",
              "        vertical-align: top;\n",
              "    }\n",
              "\n",
              "    .dataframe thead th {\n",
              "        text-align: right;\n",
              "    }\n",
              "</style>\n",
              "<table border=\"1\" class=\"dataframe\">\n",
              "  <thead>\n",
              "    <tr style=\"text-align: right;\">\n",
              "      <th></th>\n",
              "      <th>AT</th>\n",
              "      <th>AP</th>\n",
              "      <th>AH</th>\n",
              "      <th>AFDP</th>\n",
              "      <th>GTEP</th>\n",
              "      <th>TIT</th>\n",
              "      <th>TAT</th>\n",
              "      <th>TEY</th>\n",
              "      <th>CDP</th>\n",
              "      <th>CO</th>\n",
              "      <th>NOX</th>\n",
              "      <th>CLUSTER</th>\n",
              "    </tr>\n",
              "  </thead>\n",
              "  <tbody>\n",
              "    <tr>\n",
              "      <th>0</th>\n",
              "      <td>4.5878</td>\n",
              "      <td>1018.7</td>\n",
              "      <td>83.675</td>\n",
              "      <td>3.5758</td>\n",
              "      <td>23.979</td>\n",
              "      <td>1086.2</td>\n",
              "      <td>549.83</td>\n",
              "      <td>134.67</td>\n",
              "      <td>11.898</td>\n",
              "      <td>0.32663</td>\n",
              "      <td>81.952</td>\n",
              "      <td>1</td>\n",
              "    </tr>\n",
              "    <tr>\n",
              "      <th>1</th>\n",
              "      <td>4.2932</td>\n",
              "      <td>1018.3</td>\n",
              "      <td>84.235</td>\n",
              "      <td>3.5709</td>\n",
              "      <td>23.951</td>\n",
              "      <td>1086.1</td>\n",
              "      <td>550.05</td>\n",
              "      <td>134.67</td>\n",
              "      <td>11.892</td>\n",
              "      <td>0.44784</td>\n",
              "      <td>82.377</td>\n",
              "      <td>1</td>\n",
              "    </tr>\n",
              "    <tr>\n",
              "      <th>2</th>\n",
              "      <td>3.9045</td>\n",
              "      <td>1018.4</td>\n",
              "      <td>84.858</td>\n",
              "      <td>3.5828</td>\n",
              "      <td>23.990</td>\n",
              "      <td>1086.5</td>\n",
              "      <td>550.19</td>\n",
              "      <td>135.10</td>\n",
              "      <td>12.042</td>\n",
              "      <td>0.45144</td>\n",
              "      <td>83.776</td>\n",
              "      <td>1</td>\n",
              "    </tr>\n",
              "    <tr>\n",
              "      <th>3</th>\n",
              "      <td>3.7436</td>\n",
              "      <td>1018.3</td>\n",
              "      <td>85.434</td>\n",
              "      <td>3.5808</td>\n",
              "      <td>23.911</td>\n",
              "      <td>1086.5</td>\n",
              "      <td>550.17</td>\n",
              "      <td>135.03</td>\n",
              "      <td>11.990</td>\n",
              "      <td>0.23107</td>\n",
              "      <td>82.505</td>\n",
              "      <td>1</td>\n",
              "    </tr>\n",
              "    <tr>\n",
              "      <th>4</th>\n",
              "      <td>3.7516</td>\n",
              "      <td>1017.8</td>\n",
              "      <td>85.182</td>\n",
              "      <td>3.5781</td>\n",
              "      <td>23.917</td>\n",
              "      <td>1085.9</td>\n",
              "      <td>550.00</td>\n",
              "      <td>134.67</td>\n",
              "      <td>11.910</td>\n",
              "      <td>0.26747</td>\n",
              "      <td>82.028</td>\n",
              "      <td>1</td>\n",
              "    </tr>\n",
              "  </tbody>\n",
              "</table>\n",
              "</div>"
            ],
            "text/plain": [
              "       AT      AP      AH    AFDP  ...     CDP       CO     NOX  CLUSTER\n",
              "0  4.5878  1018.7  83.675  3.5758  ...  11.898  0.32663  81.952        1\n",
              "1  4.2932  1018.3  84.235  3.5709  ...  11.892  0.44784  82.377        1\n",
              "2  3.9045  1018.4  84.858  3.5828  ...  12.042  0.45144  83.776        1\n",
              "3  3.7436  1018.3  85.434  3.5808  ...  11.990  0.23107  82.505        1\n",
              "4  3.7516  1017.8  85.182  3.5781  ...  11.910  0.26747  82.028        1\n",
              "\n",
              "[5 rows x 12 columns]"
            ]
          },
          "metadata": {
            "tags": []
          },
          "execution_count": 52
        }
      ]
    },
    {
      "cell_type": "code",
      "metadata": {
        "colab": {
          "base_uri": "https://localhost:8080/",
          "height": 319
        },
        "id": "NtGZfdc2J8an",
        "outputId": "877efaae-d118-4f5a-fc47-aa587b2b0ada"
      },
      "source": [
        "df.describe()"
      ],
      "execution_count": 53,
      "outputs": [
        {
          "output_type": "execute_result",
          "data": {
            "text/html": [
              "<div>\n",
              "<style scoped>\n",
              "    .dataframe tbody tr th:only-of-type {\n",
              "        vertical-align: middle;\n",
              "    }\n",
              "\n",
              "    .dataframe tbody tr th {\n",
              "        vertical-align: top;\n",
              "    }\n",
              "\n",
              "    .dataframe thead th {\n",
              "        text-align: right;\n",
              "    }\n",
              "</style>\n",
              "<table border=\"1\" class=\"dataframe\">\n",
              "  <thead>\n",
              "    <tr style=\"text-align: right;\">\n",
              "      <th></th>\n",
              "      <th>AT</th>\n",
              "      <th>AP</th>\n",
              "      <th>AH</th>\n",
              "      <th>AFDP</th>\n",
              "      <th>GTEP</th>\n",
              "      <th>TIT</th>\n",
              "      <th>TAT</th>\n",
              "      <th>TEY</th>\n",
              "      <th>CDP</th>\n",
              "      <th>CO</th>\n",
              "      <th>NOX</th>\n",
              "      <th>CLUSTER</th>\n",
              "    </tr>\n",
              "  </thead>\n",
              "  <tbody>\n",
              "    <tr>\n",
              "      <th>count</th>\n",
              "      <td>36733.000000</td>\n",
              "      <td>36733.000000</td>\n",
              "      <td>36733.000000</td>\n",
              "      <td>36733.000000</td>\n",
              "      <td>36733.000000</td>\n",
              "      <td>36733.000000</td>\n",
              "      <td>36733.000000</td>\n",
              "      <td>36733.000000</td>\n",
              "      <td>36733.000000</td>\n",
              "      <td>36733.000000</td>\n",
              "      <td>36733.000000</td>\n",
              "      <td>36733.000000</td>\n",
              "    </tr>\n",
              "    <tr>\n",
              "      <th>mean</th>\n",
              "      <td>17.712726</td>\n",
              "      <td>1013.070165</td>\n",
              "      <td>77.867015</td>\n",
              "      <td>3.925518</td>\n",
              "      <td>25.563801</td>\n",
              "      <td>1081.428084</td>\n",
              "      <td>546.158517</td>\n",
              "      <td>133.506404</td>\n",
              "      <td>12.060525</td>\n",
              "      <td>2.372468</td>\n",
              "      <td>65.293067</td>\n",
              "      <td>0.390221</td>\n",
              "    </tr>\n",
              "    <tr>\n",
              "      <th>std</th>\n",
              "      <td>7.447451</td>\n",
              "      <td>6.463346</td>\n",
              "      <td>14.461355</td>\n",
              "      <td>0.773936</td>\n",
              "      <td>4.195957</td>\n",
              "      <td>17.536373</td>\n",
              "      <td>6.842360</td>\n",
              "      <td>15.618634</td>\n",
              "      <td>1.088795</td>\n",
              "      <td>2.262672</td>\n",
              "      <td>11.678357</td>\n",
              "      <td>0.579763</td>\n",
              "    </tr>\n",
              "    <tr>\n",
              "      <th>min</th>\n",
              "      <td>-6.234800</td>\n",
              "      <td>985.850000</td>\n",
              "      <td>24.085000</td>\n",
              "      <td>2.087400</td>\n",
              "      <td>17.698000</td>\n",
              "      <td>1000.800000</td>\n",
              "      <td>511.040000</td>\n",
              "      <td>100.020000</td>\n",
              "      <td>9.851800</td>\n",
              "      <td>0.000388</td>\n",
              "      <td>25.905000</td>\n",
              "      <td>0.000000</td>\n",
              "    </tr>\n",
              "    <tr>\n",
              "      <th>25%</th>\n",
              "      <td>11.781000</td>\n",
              "      <td>1008.800000</td>\n",
              "      <td>68.188000</td>\n",
              "      <td>3.355600</td>\n",
              "      <td>23.129000</td>\n",
              "      <td>1071.800000</td>\n",
              "      <td>544.720000</td>\n",
              "      <td>124.450000</td>\n",
              "      <td>11.435000</td>\n",
              "      <td>1.182400</td>\n",
              "      <td>57.162000</td>\n",
              "      <td>0.000000</td>\n",
              "    </tr>\n",
              "    <tr>\n",
              "      <th>50%</th>\n",
              "      <td>17.801000</td>\n",
              "      <td>1012.600000</td>\n",
              "      <td>80.470000</td>\n",
              "      <td>3.937700</td>\n",
              "      <td>25.104000</td>\n",
              "      <td>1085.900000</td>\n",
              "      <td>549.880000</td>\n",
              "      <td>133.730000</td>\n",
              "      <td>11.965000</td>\n",
              "      <td>1.713500</td>\n",
              "      <td>63.849000</td>\n",
              "      <td>0.000000</td>\n",
              "    </tr>\n",
              "    <tr>\n",
              "      <th>75%</th>\n",
              "      <td>23.665000</td>\n",
              "      <td>1017.000000</td>\n",
              "      <td>89.376000</td>\n",
              "      <td>4.376900</td>\n",
              "      <td>29.061000</td>\n",
              "      <td>1097.000000</td>\n",
              "      <td>550.040000</td>\n",
              "      <td>144.080000</td>\n",
              "      <td>12.855000</td>\n",
              "      <td>2.842900</td>\n",
              "      <td>71.548000</td>\n",
              "      <td>1.000000</td>\n",
              "    </tr>\n",
              "    <tr>\n",
              "      <th>max</th>\n",
              "      <td>37.103000</td>\n",
              "      <td>1036.600000</td>\n",
              "      <td>100.200000</td>\n",
              "      <td>7.610600</td>\n",
              "      <td>40.716000</td>\n",
              "      <td>1100.900000</td>\n",
              "      <td>550.610000</td>\n",
              "      <td>179.500000</td>\n",
              "      <td>15.159000</td>\n",
              "      <td>44.103000</td>\n",
              "      <td>119.910000</td>\n",
              "      <td>2.000000</td>\n",
              "    </tr>\n",
              "  </tbody>\n",
              "</table>\n",
              "</div>"
            ],
            "text/plain": [
              "                 AT            AP  ...           NOX       CLUSTER\n",
              "count  36733.000000  36733.000000  ...  36733.000000  36733.000000\n",
              "mean      17.712726   1013.070165  ...     65.293067      0.390221\n",
              "std        7.447451      6.463346  ...     11.678357      0.579763\n",
              "min       -6.234800    985.850000  ...     25.905000      0.000000\n",
              "25%       11.781000   1008.800000  ...     57.162000      0.000000\n",
              "50%       17.801000   1012.600000  ...     63.849000      0.000000\n",
              "75%       23.665000   1017.000000  ...     71.548000      1.000000\n",
              "max       37.103000   1036.600000  ...    119.910000      2.000000\n",
              "\n",
              "[8 rows x 12 columns]"
            ]
          },
          "metadata": {
            "tags": []
          },
          "execution_count": 53
        }
      ]
    },
    {
      "cell_type": "code",
      "metadata": {
        "id": "4uXNb1x_LNX8"
      },
      "source": [
        "df.to_csv('clustered_data.csv')"
      ],
      "execution_count": 54,
      "outputs": []
    },
    {
      "cell_type": "code",
      "metadata": {
        "id": "oDzwgL0rLeGO"
      },
      "source": [
        "filename2 = 'scalar.pkl'\n",
        "pickle.dump(scaler,open(filename2,'wb'))"
      ],
      "execution_count": 67,
      "outputs": []
    }
  ]
}